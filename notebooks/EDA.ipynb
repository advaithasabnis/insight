{
 "cells": [
  {
   "cell_type": "markdown",
   "metadata": {},
   "source": [
    "# Preliminary Look at the Data"
   ]
  },
  {
   "cell_type": "code",
   "execution_count": 2,
   "metadata": {},
   "outputs": [],
   "source": [
    "import numpy as np\n",
    "import pandas as pd\n",
    "import seaborn as sns\n",
    "import matplotlib.pyplot as plt\n",
    "from targetandmarket.config import data_folder\n",
    "sns.set_context(\"poster\", font_scale=0.6)"
   ]
  },
  {
   "cell_type": "markdown",
   "metadata": {},
   "source": [
    "## Import Data"
   ]
  },
  {
   "cell_type": "code",
   "execution_count": 3,
   "metadata": {},
   "outputs": [
    {
     "data": {
      "text/html": [
       "<div>\n",
       "<style scoped>\n",
       "    .dataframe tbody tr th:only-of-type {\n",
       "        vertical-align: middle;\n",
       "    }\n",
       "\n",
       "    .dataframe tbody tr th {\n",
       "        vertical-align: top;\n",
       "    }\n",
       "\n",
       "    .dataframe thead th {\n",
       "        text-align: right;\n",
       "    }\n",
       "</style>\n",
       "<table border=\"1\" class=\"dataframe\">\n",
       "  <thead>\n",
       "    <tr style=\"text-align: right;\">\n",
       "      <th></th>\n",
       "      <th>user_id</th>\n",
       "      <th>sessions</th>\n",
       "      <th>last_session</th>\n",
       "      <th>total_time</th>\n",
       "      <th>avg_session</th>\n",
       "      <th>first_open</th>\n",
       "      <th>continent</th>\n",
       "      <th>country</th>\n",
       "      <th>holdings</th>\n",
       "      <th>isPro</th>\n",
       "    </tr>\n",
       "  </thead>\n",
       "  <tbody>\n",
       "    <tr>\n",
       "      <th>0</th>\n",
       "      <td>1.296826e+08</td>\n",
       "      <td>1.812913</td>\n",
       "      <td>-0.824680</td>\n",
       "      <td>3.719026</td>\n",
       "      <td>1.906113</td>\n",
       "      <td>767.166667</td>\n",
       "      <td>Europe</td>\n",
       "      <td>France</td>\n",
       "      <td>3.943411</td>\n",
       "      <td>0</td>\n",
       "    </tr>\n",
       "    <tr>\n",
       "      <th>1</th>\n",
       "      <td>1.558825e+09</td>\n",
       "      <td>1.897627</td>\n",
       "      <td>-1.059405</td>\n",
       "      <td>3.969212</td>\n",
       "      <td>2.071585</td>\n",
       "      <td>116.125000</td>\n",
       "      <td>Europe</td>\n",
       "      <td>Germany</td>\n",
       "      <td>3.437737</td>\n",
       "      <td>0</td>\n",
       "    </tr>\n",
       "    <tr>\n",
       "      <th>2</th>\n",
       "      <td>1.189782e+08</td>\n",
       "      <td>1.875061</td>\n",
       "      <td>0.347139</td>\n",
       "      <td>3.709477</td>\n",
       "      <td>1.834416</td>\n",
       "      <td>688.250000</td>\n",
       "      <td>Europe</td>\n",
       "      <td>Romania</td>\n",
       "      <td>2.549859</td>\n",
       "      <td>0</td>\n",
       "    </tr>\n",
       "    <tr>\n",
       "      <th>3</th>\n",
       "      <td>1.691281e+09</td>\n",
       "      <td>1.414973</td>\n",
       "      <td>-0.733403</td>\n",
       "      <td>3.253199</td>\n",
       "      <td>1.838226</td>\n",
       "      <td>99.041667</td>\n",
       "      <td>Europe</td>\n",
       "      <td>Netherlands</td>\n",
       "      <td>3.602135</td>\n",
       "      <td>0</td>\n",
       "    </tr>\n",
       "    <tr>\n",
       "      <th>4</th>\n",
       "      <td>4.059957e+08</td>\n",
       "      <td>2.290035</td>\n",
       "      <td>-1.020659</td>\n",
       "      <td>4.123801</td>\n",
       "      <td>1.833767</td>\n",
       "      <td>376.416667</td>\n",
       "      <td>Europe</td>\n",
       "      <td>Ireland</td>\n",
       "      <td>5.252361</td>\n",
       "      <td>1</td>\n",
       "    </tr>\n",
       "  </tbody>\n",
       "</table>\n",
       "</div>"
      ],
      "text/plain": [
       "        user_id  sessions  last_session  total_time  avg_session  first_open  \\\n",
       "0  1.296826e+08  1.812913     -0.824680    3.719026     1.906113  767.166667   \n",
       "1  1.558825e+09  1.897627     -1.059405    3.969212     2.071585  116.125000   \n",
       "2  1.189782e+08  1.875061      0.347139    3.709477     1.834416  688.250000   \n",
       "3  1.691281e+09  1.414973     -0.733403    3.253199     1.838226   99.041667   \n",
       "4  4.059957e+08  2.290035     -1.020659    4.123801     1.833767  376.416667   \n",
       "\n",
       "  continent      country  holdings  isPro  \n",
       "0    Europe       France  3.943411      0  \n",
       "1    Europe      Germany  3.437737      0  \n",
       "2    Europe      Romania  2.549859      0  \n",
       "3    Europe  Netherlands  3.602135      0  \n",
       "4    Europe      Ireland  5.252361      1  "
      ]
     },
     "execution_count": 3,
     "metadata": {},
     "output_type": "execute_result"
    }
   ],
   "source": [
    "user_data = pd.read_csv(data_folder/'user_analytics.csv', index_col=0)\n",
    "user_data.head()"
   ]
  },
  {
   "cell_type": "markdown",
   "metadata": {},
   "source": [
    "*Note that session numbers and engagement times have been scaled by a hidden factor to obfuscate true values"
   ]
  },
  {
   "cell_type": "markdown",
   "metadata": {},
   "source": [
    "## Exploration"
   ]
  },
  {
   "cell_type": "code",
   "execution_count": 23,
   "metadata": {
    "scrolled": true
   },
   "outputs": [
    {
     "data": {
      "text/html": [
       "<div>\n",
       "<style scoped>\n",
       "    .dataframe tbody tr th:only-of-type {\n",
       "        vertical-align: middle;\n",
       "    }\n",
       "\n",
       "    .dataframe tbody tr th {\n",
       "        vertical-align: top;\n",
       "    }\n",
       "\n",
       "    .dataframe thead th {\n",
       "        text-align: right;\n",
       "    }\n",
       "</style>\n",
       "<table border=\"1\" class=\"dataframe\">\n",
       "  <thead>\n",
       "    <tr style=\"text-align: right;\">\n",
       "      <th></th>\n",
       "      <th>user_id</th>\n",
       "      <th>sessions</th>\n",
       "      <th>last_session</th>\n",
       "      <th>total_time</th>\n",
       "      <th>avg_session</th>\n",
       "      <th>first_open</th>\n",
       "      <th>holdings</th>\n",
       "      <th>isPro</th>\n",
       "    </tr>\n",
       "  </thead>\n",
       "  <tbody>\n",
       "    <tr>\n",
       "      <th>count</th>\n",
       "      <td>6.664300e+04</td>\n",
       "      <td>66643.000000</td>\n",
       "      <td>66643.000000</td>\n",
       "      <td>66643.000000</td>\n",
       "      <td>66643.000000</td>\n",
       "      <td>66643.000000</td>\n",
       "      <td>66643.000000</td>\n",
       "      <td>66643.000000</td>\n",
       "    </tr>\n",
       "    <tr>\n",
       "      <th>mean</th>\n",
       "      <td>1.072890e+09</td>\n",
       "      <td>1.249006</td>\n",
       "      <td>0.110875</td>\n",
       "      <td>2.924218</td>\n",
       "      <td>1.675212</td>\n",
       "      <td>449.017925</td>\n",
       "      <td>3.472091</td>\n",
       "      <td>0.043005</td>\n",
       "    </tr>\n",
       "    <tr>\n",
       "      <th>std</th>\n",
       "      <td>6.195199e+08</td>\n",
       "      <td>0.563975</td>\n",
       "      <td>0.700664</td>\n",
       "      <td>0.689210</td>\n",
       "      <td>0.297603</td>\n",
       "      <td>278.051481</td>\n",
       "      <td>0.893204</td>\n",
       "      <td>0.202870</td>\n",
       "    </tr>\n",
       "    <tr>\n",
       "      <th>min</th>\n",
       "      <td>1.562000e+04</td>\n",
       "      <td>0.477121</td>\n",
       "      <td>-1.079174</td>\n",
       "      <td>1.489311</td>\n",
       "      <td>1.012190</td>\n",
       "      <td>31.041667</td>\n",
       "      <td>1.000545</td>\n",
       "      <td>0.000000</td>\n",
       "    </tr>\n",
       "    <tr>\n",
       "      <th>25%</th>\n",
       "      <td>5.378629e+08</td>\n",
       "      <td>0.778151</td>\n",
       "      <td>-0.474280</td>\n",
       "      <td>2.389585</td>\n",
       "      <td>1.454785</td>\n",
       "      <td>202.750000</td>\n",
       "      <td>2.871757</td>\n",
       "      <td>0.000000</td>\n",
       "    </tr>\n",
       "    <tr>\n",
       "      <th>50%</th>\n",
       "      <td>1.071589e+09</td>\n",
       "      <td>1.176091</td>\n",
       "      <td>0.072496</td>\n",
       "      <td>2.857847</td>\n",
       "      <td>1.640189</td>\n",
       "      <td>413.333333</td>\n",
       "      <td>3.487369</td>\n",
       "      <td>0.000000</td>\n",
       "    </tr>\n",
       "    <tr>\n",
       "      <th>75%</th>\n",
       "      <td>1.610162e+09</td>\n",
       "      <td>1.681241</td>\n",
       "      <td>0.726927</td>\n",
       "      <td>3.396128</td>\n",
       "      <td>1.860835</td>\n",
       "      <td>696.500000</td>\n",
       "      <td>4.072476</td>\n",
       "      <td>0.000000</td>\n",
       "    </tr>\n",
       "    <tr>\n",
       "      <th>max</th>\n",
       "      <td>2.147423e+09</td>\n",
       "      <td>2.729974</td>\n",
       "      <td>1.488185</td>\n",
       "      <td>5.224700</td>\n",
       "      <td>2.965687</td>\n",
       "      <td>1003.083333</td>\n",
       "      <td>6.997852</td>\n",
       "      <td>1.000000</td>\n",
       "    </tr>\n",
       "  </tbody>\n",
       "</table>\n",
       "</div>"
      ],
      "text/plain": [
       "            user_id      sessions  last_session    total_time   avg_session  \\\n",
       "count  6.664300e+04  66643.000000  66643.000000  66643.000000  66643.000000   \n",
       "mean   1.072890e+09      1.249006      0.110875      2.924218      1.675212   \n",
       "std    6.195199e+08      0.563975      0.700664      0.689210      0.297603   \n",
       "min    1.562000e+04      0.477121     -1.079174      1.489311      1.012190   \n",
       "25%    5.378629e+08      0.778151     -0.474280      2.389585      1.454785   \n",
       "50%    1.071589e+09      1.176091      0.072496      2.857847      1.640189   \n",
       "75%    1.610162e+09      1.681241      0.726927      3.396128      1.860835   \n",
       "max    2.147423e+09      2.729974      1.488185      5.224700      2.965687   \n",
       "\n",
       "         first_open      holdings         isPro  \n",
       "count  66643.000000  66643.000000  66643.000000  \n",
       "mean     449.017925      3.472091      0.043005  \n",
       "std      278.051481      0.893204      0.202870  \n",
       "min       31.041667      1.000545      0.000000  \n",
       "25%      202.750000      2.871757      0.000000  \n",
       "50%      413.333333      3.487369      0.000000  \n",
       "75%      696.500000      4.072476      0.000000  \n",
       "max     1003.083333      6.997852      1.000000  "
      ]
     },
     "execution_count": 23,
     "metadata": {},
     "output_type": "execute_result"
    }
   ],
   "source": [
    "user_data.describe()"
   ]
  },
  {
   "cell_type": "code",
   "execution_count": 26,
   "metadata": {},
   "outputs": [
    {
     "data": {
      "text/html": [
       "<div>\n",
       "<style scoped>\n",
       "    .dataframe tbody tr th:only-of-type {\n",
       "        vertical-align: middle;\n",
       "    }\n",
       "\n",
       "    .dataframe tbody tr th {\n",
       "        vertical-align: top;\n",
       "    }\n",
       "\n",
       "    .dataframe thead th {\n",
       "        text-align: right;\n",
       "    }\n",
       "</style>\n",
       "<table border=\"1\" class=\"dataframe\">\n",
       "  <thead>\n",
       "    <tr style=\"text-align: right;\">\n",
       "      <th></th>\n",
       "      <th>user_id</th>\n",
       "      <th>sessions</th>\n",
       "      <th>last_session</th>\n",
       "      <th>total_time</th>\n",
       "      <th>avg_session</th>\n",
       "      <th>first_open</th>\n",
       "      <th>holdings</th>\n",
       "      <th>isPro</th>\n",
       "    </tr>\n",
       "  </thead>\n",
       "  <tbody>\n",
       "    <tr>\n",
       "      <th>count</th>\n",
       "      <td>6.377700e+04</td>\n",
       "      <td>63777.000000</td>\n",
       "      <td>63777.000000</td>\n",
       "      <td>63777.000000</td>\n",
       "      <td>63777.000000</td>\n",
       "      <td>63777.000000</td>\n",
       "      <td>63777.000000</td>\n",
       "      <td>63777.0</td>\n",
       "    </tr>\n",
       "    <tr>\n",
       "      <th>mean</th>\n",
       "      <td>1.073390e+09</td>\n",
       "      <td>1.239196</td>\n",
       "      <td>0.119555</td>\n",
       "      <td>2.908332</td>\n",
       "      <td>1.669136</td>\n",
       "      <td>451.789362</td>\n",
       "      <td>3.441381</td>\n",
       "      <td>0.0</td>\n",
       "    </tr>\n",
       "    <tr>\n",
       "      <th>std</th>\n",
       "      <td>6.193661e+08</td>\n",
       "      <td>0.561171</td>\n",
       "      <td>0.699979</td>\n",
       "      <td>0.683503</td>\n",
       "      <td>0.295575</td>\n",
       "      <td>278.572296</td>\n",
       "      <td>0.882876</td>\n",
       "      <td>0.0</td>\n",
       "    </tr>\n",
       "    <tr>\n",
       "      <th>min</th>\n",
       "      <td>1.562000e+04</td>\n",
       "      <td>0.477121</td>\n",
       "      <td>-1.079174</td>\n",
       "      <td>1.489311</td>\n",
       "      <td>1.012190</td>\n",
       "      <td>31.041667</td>\n",
       "      <td>1.000545</td>\n",
       "      <td>0.0</td>\n",
       "    </tr>\n",
       "    <tr>\n",
       "      <th>25%</th>\n",
       "      <td>5.387893e+08</td>\n",
       "      <td>0.778151</td>\n",
       "      <td>-0.463206</td>\n",
       "      <td>2.378676</td>\n",
       "      <td>1.450397</td>\n",
       "      <td>204.250000</td>\n",
       "      <td>2.846979</td>\n",
       "      <td>0.0</td>\n",
       "    </tr>\n",
       "    <tr>\n",
       "      <th>50%</th>\n",
       "      <td>1.072055e+09</td>\n",
       "      <td>1.176091</td>\n",
       "      <td>0.086794</td>\n",
       "      <td>2.841691</td>\n",
       "      <td>1.634457</td>\n",
       "      <td>418.375000</td>\n",
       "      <td>3.455611</td>\n",
       "      <td>0.0</td>\n",
       "    </tr>\n",
       "    <tr>\n",
       "      <th>75%</th>\n",
       "      <td>1.610433e+09</td>\n",
       "      <td>1.662758</td>\n",
       "      <td>0.734196</td>\n",
       "      <td>3.375988</td>\n",
       "      <td>1.852799</td>\n",
       "      <td>702.375000</td>\n",
       "      <td>4.037900</td>\n",
       "      <td>0.0</td>\n",
       "    </tr>\n",
       "    <tr>\n",
       "      <th>max</th>\n",
       "      <td>2.147423e+09</td>\n",
       "      <td>2.691081</td>\n",
       "      <td>1.488185</td>\n",
       "      <td>5.224700</td>\n",
       "      <td>2.965687</td>\n",
       "      <td>1003.083333</td>\n",
       "      <td>6.997852</td>\n",
       "      <td>0.0</td>\n",
       "    </tr>\n",
       "  </tbody>\n",
       "</table>\n",
       "</div>"
      ],
      "text/plain": [
       "            user_id      sessions  last_session    total_time   avg_session  \\\n",
       "count  6.377700e+04  63777.000000  63777.000000  63777.000000  63777.000000   \n",
       "mean   1.073390e+09      1.239196      0.119555      2.908332      1.669136   \n",
       "std    6.193661e+08      0.561171      0.699979      0.683503      0.295575   \n",
       "min    1.562000e+04      0.477121     -1.079174      1.489311      1.012190   \n",
       "25%    5.387893e+08      0.778151     -0.463206      2.378676      1.450397   \n",
       "50%    1.072055e+09      1.176091      0.086794      2.841691      1.634457   \n",
       "75%    1.610433e+09      1.662758      0.734196      3.375988      1.852799   \n",
       "max    2.147423e+09      2.691081      1.488185      5.224700      2.965687   \n",
       "\n",
       "         first_open      holdings    isPro  \n",
       "count  63777.000000  63777.000000  63777.0  \n",
       "mean     451.789362      3.441381      0.0  \n",
       "std      278.572296      0.882876      0.0  \n",
       "min       31.041667      1.000545      0.0  \n",
       "25%      204.250000      2.846979      0.0  \n",
       "50%      418.375000      3.455611      0.0  \n",
       "75%      702.375000      4.037900      0.0  \n",
       "max     1003.083333      6.997852      0.0  "
      ]
     },
     "execution_count": 26,
     "metadata": {},
     "output_type": "execute_result"
    }
   ],
   "source": [
    "user_data.loc[user_data.isPro==0].describe()"
   ]
  },
  {
   "cell_type": "code",
   "execution_count": 22,
   "metadata": {
    "scrolled": true
   },
   "outputs": [
    {
     "data": {
      "image/png": "[encoded data removed]",
      "text/plain": [
       "<Figure size 1080x288 with 1 Axes>"
      ]
     },
     "metadata": {
      "needs_background": "light"
     },
     "output_type": "display_data"
    }
   ],
   "source": [
    "plt.figure(figsize=(15,4))\n",
    "sns.barplot(\n",
    "    x=user_data.groupby(by=pd.qcut(user_data.avg_session, 8)).mean().index,\n",
    "    y=user_data.groupby(by=pd.qcut(user_data.avg_session, 8)).mean().isPro);"
   ]
  },
  {
   "cell_type": "code",
   "execution_count": 24,
   "metadata": {},
   "outputs": [
    {
     "data": {
      "image/png": "[encoded data removed]",
      "text/plain": [
       "<Figure size 1080x288 with 1 Axes>"
      ]
     },
     "metadata": {
      "needs_background": "light"
     },
     "output_type": "display_data"
    }
   ],
   "source": [
    "plt.figure(figsize=(15,4))\n",
    "sns.barplot(\n",
    "    x=user_data.groupby(by=pd.qcut(user_data.holdings, 8)).mean().index,\n",
    "    y=user_data.groupby(by=pd.qcut(user_data.holdings, 8)).mean().isPro);"
   ]
  },
  {
   "cell_type": "code",
   "execution_count": 28,
   "metadata": {},
   "outputs": [
    {
     "data": {
      "image/png": "[encoded data removed]",
      "text/plain": [
       "<Figure size 1080x288 with 1 Axes>"
      ]
     },
     "metadata": {
      "needs_background": "light"
     },
     "output_type": "display_data"
    }
   ],
   "source": [
    "plt.figure(figsize=(15,4))\n",
    "sns.barplot(\n",
    "    x=user_data.groupby(by=pd.qcut(user_data.last_session, 8)).mean().index,\n",
    "    y=user_data.groupby(by=pd.qcut(user_data.last_session, 8)).mean().isPro);"
   ]
  },
  {
   "cell_type": "code",
   "execution_count": null,
   "metadata": {},
   "outputs": [],
   "source": []
  }
 ],
 "metadata": {
  "kernelspec": {
   "display_name": "Python 3",
   "language": "python",
   "name": "python3"
  },
  "language_info": {
   "codemirror_mode": {
    "name": "ipython",
    "version": 3
   },
   "file_extension": ".py",
   "mimetype": "text/x-python",
   "name": "python",
   "nbconvert_exporter": "python",
   "pygments_lexer": "ipython3",
   "version": "3.8.3"
  }
 },
 "nbformat": 4,
 "nbformat_minor": 4
}
