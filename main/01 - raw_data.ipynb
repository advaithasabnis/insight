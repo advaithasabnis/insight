{
 "cells": [
  {
   "cell_type": "code",
   "execution_count": 1,
   "metadata": {},
   "outputs": [],
   "source": [
    "import os\n",
    "import pandas as pd\n",
    "from pathlib import Path\n",
    "from google.cloud import bigquery\n",
    "\n",
    "from targetandmarket.config import data_folder"
   ]
  },
  {
   "cell_type": "code",
   "execution_count": 2,
   "metadata": {},
   "outputs": [],
   "source": [
    "# BigQuery client\n",
    "\n",
    "SERVICE_ACCOUNT = os.environ['GOOGLE_API_KEY']\n",
    "bqclient = bigquery.Client.from_service_account_json(SERVICE_ACCOUNT)"
   ]
  },
  {
   "cell_type": "markdown",
   "metadata": {},
   "source": [
    "**Preliminary look at raw data stored on BigQuery**"
   ]
  },
  {
   "cell_type": "code",
   "execution_count": 10,
   "metadata": {},
   "outputs": [],
   "source": [
    "# For user behaviour I am interested in the user_engagement events.\n",
    "# Query from events of May 01, 2020\n",
    "query = \"\"\"\n",
    "SELECT user_id, event_timestamp, event_name, event_params\n",
    "FROM `analytics_157832975.events_20200501`\n",
    "WHERE event_name = 'user_engagement'\n",
    "LIMIT 100\n",
    "\"\"\"\n",
    "\n",
    "beh_data = pd.DataFrame(bqclient.query(query).result().to_dataframe())"
   ]
  },
  {
   "cell_type": "code",
   "execution_count": 17,
   "metadata": {},
   "outputs": [
    {
     "data": {
      "text/html": [
       "<div>\n",
       "<style scoped>\n",
       "    .dataframe tbody tr th:only-of-type {\n",
       "        vertical-align: middle;\n",
       "    }\n",
       "\n",
       "    .dataframe tbody tr th {\n",
       "        vertical-align: top;\n",
       "    }\n",
       "\n",
       "    .dataframe thead th {\n",
       "        text-align: right;\n",
       "    }\n",
       "</style>\n",
       "<table border=\"1\" class=\"dataframe\">\n",
       "  <thead>\n",
       "    <tr style=\"text-align: right;\">\n",
       "      <th></th>\n",
       "      <th>user_id</th>\n",
       "      <th>event_timestamp</th>\n",
       "      <th>event_name</th>\n",
       "      <th>event_params</th>\n",
       "    </tr>\n",
       "  </thead>\n",
       "  <tbody>\n",
       "    <tr>\n",
       "      <th>0</th>\n",
       "      <td>145944317</td>\n",
       "      <td>1588338370189003</td>\n",
       "      <td>user_engagement</td>\n",
       "      <td>[{'key': 'freeride', 'value': {'string_value':...</td>\n",
       "    </tr>\n",
       "    <tr>\n",
       "      <th>1</th>\n",
       "      <td>145944317</td>\n",
       "      <td>1588338370313005</td>\n",
       "      <td>user_engagement</td>\n",
       "      <td>[{'key': 'freeride', 'value': {'string_value':...</td>\n",
       "    </tr>\n",
       "    <tr>\n",
       "      <th>2</th>\n",
       "      <td>145944317</td>\n",
       "      <td>1588338417014006</td>\n",
       "      <td>user_engagement</td>\n",
       "      <td>[{'key': 'engaged_session_event', 'value': {'s...</td>\n",
       "    </tr>\n",
       "    <tr>\n",
       "      <th>3</th>\n",
       "      <td>1273103581</td>\n",
       "      <td>1588346644164004</td>\n",
       "      <td>user_engagement</td>\n",
       "      <td>[{'key': 'freeride', 'value': {'string_value':...</td>\n",
       "    </tr>\n",
       "    <tr>\n",
       "      <th>4</th>\n",
       "      <td>1273103581</td>\n",
       "      <td>1588348301427004</td>\n",
       "      <td>user_engagement</td>\n",
       "      <td>[{'key': 'freeride', 'value': {'string_value':...</td>\n",
       "    </tr>\n",
       "  </tbody>\n",
       "</table>\n",
       "</div>"
      ],
      "text/plain": [
       "      user_id   event_timestamp       event_name  \\\n",
       "0   145944317  1588338370189003  user_engagement   \n",
       "1   145944317  1588338370313005  user_engagement   \n",
       "2   145944317  1588338417014006  user_engagement   \n",
       "3  1273103581  1588346644164004  user_engagement   \n",
       "4  1273103581  1588348301427004  user_engagement   \n",
       "\n",
       "                                        event_params  \n",
       "0  [{'key': 'freeride', 'value': {'string_value':...  \n",
       "1  [{'key': 'freeride', 'value': {'string_value':...  \n",
       "2  [{'key': 'engaged_session_event', 'value': {'s...  \n",
       "3  [{'key': 'freeride', 'value': {'string_value':...  \n",
       "4  [{'key': 'freeride', 'value': {'string_value':...  "
      ]
     },
     "execution_count": 17,
     "metadata": {},
     "output_type": "execute_result"
    }
   ],
   "source": [
    "beh_data.head()"
   ]
  },
  {
   "cell_type": "markdown",
   "metadata": {},
   "source": [
    "**For every user_engagement event, event_params are recorded which are a list of dictionaries. Event_params contains the session ID (ga_session_id) and engagement time (engagement_time_msec) which are of interest to me.**"
   ]
  },
  {
   "cell_type": "code",
   "execution_count": 18,
   "metadata": {},
   "outputs": [
    {
     "data": {
      "text/plain": [
       "[{'key': 'freeride',\n",
       "  'value': {'string_value': None,\n",
       "   'int_value': 1,\n",
       "   'float_value': None,\n",
       "   'double_value': None}},\n",
       " {'key': 'engaged_session_event',\n",
       "  'value': {'string_value': None,\n",
       "   'int_value': 1,\n",
       "   'float_value': None,\n",
       "   'double_value': None}},\n",
       " {'key': 'firebase_event_origin',\n",
       "  'value': {'string_value': 'auto',\n",
       "   'int_value': None,\n",
       "   'float_value': None,\n",
       "   'double_value': None}},\n",
       " {'key': 'ga_session_number',\n",
       "  'value': {'string_value': None,\n",
       "   'int_value': 2135,\n",
       "   'float_value': None,\n",
       "   'double_value': None}},\n",
       " {'key': 'engagement_time_msec',\n",
       "  'value': {'string_value': None,\n",
       "   'int_value': 2081,\n",
       "   'float_value': None,\n",
       "   'double_value': None}},\n",
       " {'key': 'firebase_screen_id',\n",
       "  'value': {'string_value': None,\n",
       "   'int_value': 2984501255267771536,\n",
       "   'float_value': None,\n",
       "   'double_value': None}},\n",
       " {'key': 'ga_session_id',\n",
       "  'value': {'string_value': None,\n",
       "   'int_value': 1588338368,\n",
       "   'float_value': None,\n",
       "   'double_value': None}},\n",
       " {'key': 'firebase_screen_class',\n",
       "  'value': {'string_value': 'MainActivity',\n",
       "   'int_value': None,\n",
       "   'float_value': None,\n",
       "   'double_value': None}}]"
      ]
     },
     "execution_count": 18,
     "metadata": {},
     "output_type": "execute_result"
    }
   ],
   "source": [
    "beh_data.iloc[0, 3]"
   ]
  },
  {
   "cell_type": "markdown",
   "metadata": {},
   "source": [
    "**Next step:**\n",
    "\n",
    "Total data size is 125 GB with over 36 million \"user_engagement\" events. The next step is to query engineered features that could have some predictive power."
   ]
  }
 ],
 "metadata": {
  "kernelspec": {
   "display_name": "Python 3",
   "language": "python",
   "name": "python3"
  },
  "language_info": {
   "codemirror_mode": {
    "name": "ipython",
    "version": 3
   },
   "file_extension": ".py",
   "mimetype": "text/x-python",
   "name": "python",
   "nbconvert_exporter": "python",
   "pygments_lexer": "ipython3",
   "version": "3.8.3"
  }
 },
 "nbformat": 4,
 "nbformat_minor": 4
}
