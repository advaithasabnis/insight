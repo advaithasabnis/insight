{
 "cells": [
  {
   "cell_type": "markdown",
   "metadata": {},
   "source": [
    "# Clean and merge data"
   ]
  },
  {
   "cell_type": "markdown",
   "metadata": {},
   "source": [
    "**This section cleans and merges activity data from BigQuery and investment portfolio data from MySQL into one data frame.**"
   ]
  },
  {
   "cell_type": "code",
   "execution_count": 1,
   "metadata": {},
   "outputs": [],
   "source": [
    "import pandas as pd\n",
    "import seaborn as sns\n",
    "import matplotlib.pyplot as plt\n",
    "from targetandmarket.config import data_folder"
   ]
  },
  {
   "cell_type": "code",
   "execution_count": 22,
   "metadata": {},
   "outputs": [],
   "source": [
    "# Import app activity data\n",
    "# Note that session numbers and engagement times have been scaled by a hidden factor to obfuscate true values\n",
    "user_analytics_raw = pd.read_csv(data_folder/'user_analytics_raw.csv', index_col=0)\n",
    "user_error = pd.read_csv(data_folder/'user_error_status.csv', index_col=0)\n",
    "timeseries = pd.read_csv(data_folder/'timeseries.csv', index_col=0)"
   ]
  },
  {
   "cell_type": "markdown",
   "metadata": {},
   "source": [
    "**Let's look at the activity data which I queried from BigQuery**"
   ]
  },
  {
   "cell_type": "code",
   "execution_count": 3,
   "metadata": {},
   "outputs": [
    {
     "name": "stdout",
     "output_type": "stream",
     "text": [
      "(173344, 6)\n"
     ]
    }
   ],
   "source": [
    "print(user_analytics_raw.shape)"
   ]
  },
  {
   "cell_type": "code",
   "execution_count": 4,
   "metadata": {},
   "outputs": [
    {
     "data": {
      "text/html": [
       "<div>\n",
       "<style scoped>\n",
       "    .dataframe tbody tr th:only-of-type {\n",
       "        vertical-align: middle;\n",
       "    }\n",
       "\n",
       "    .dataframe tbody tr th {\n",
       "        vertical-align: top;\n",
       "    }\n",
       "\n",
       "    .dataframe thead th {\n",
       "        text-align: right;\n",
       "    }\n",
       "</style>\n",
       "<table border=\"1\" class=\"dataframe\">\n",
       "  <thead>\n",
       "    <tr style=\"text-align: right;\">\n",
       "      <th></th>\n",
       "      <th>user_id</th>\n",
       "      <th>sessions</th>\n",
       "      <th>last_session</th>\n",
       "      <th>total_time</th>\n",
       "      <th>avg_session</th>\n",
       "      <th>first_open</th>\n",
       "    </tr>\n",
       "  </thead>\n",
       "  <tbody>\n",
       "    <tr>\n",
       "      <th>0</th>\n",
       "      <td>129682562</td>\n",
       "      <td>65</td>\n",
       "      <td>1.590957e+09</td>\n",
       "      <td>5236.317</td>\n",
       "      <td>80.558723</td>\n",
       "      <td>1.524686e+09</td>\n",
       "    </tr>\n",
       "    <tr>\n",
       "      <th>1</th>\n",
       "      <td>201385452</td>\n",
       "      <td>41</td>\n",
       "      <td>1.590787e+09</td>\n",
       "      <td>2354.798</td>\n",
       "      <td>57.434098</td>\n",
       "      <td>1.588205e+09</td>\n",
       "    </tr>\n",
       "    <tr>\n",
       "      <th>2</th>\n",
       "      <td>1558824692</td>\n",
       "      <td>79</td>\n",
       "      <td>1.590962e+09</td>\n",
       "      <td>9315.622</td>\n",
       "      <td>117.919266</td>\n",
       "      <td>1.580936e+09</td>\n",
       "    </tr>\n",
       "    <tr>\n",
       "      <th>3</th>\n",
       "      <td>118978210</td>\n",
       "      <td>75</td>\n",
       "      <td>1.590777e+09</td>\n",
       "      <td>5122.445</td>\n",
       "      <td>68.299267</td>\n",
       "      <td>1.531505e+09</td>\n",
       "    </tr>\n",
       "    <tr>\n",
       "      <th>4</th>\n",
       "      <td>701136272</td>\n",
       "      <td>30</td>\n",
       "      <td>1.590686e+09</td>\n",
       "      <td>8831.959</td>\n",
       "      <td>294.398633</td>\n",
       "      <td>1.579424e+09</td>\n",
       "    </tr>\n",
       "  </tbody>\n",
       "</table>\n",
       "</div>"
      ],
      "text/plain": [
       "      user_id  sessions  last_session  total_time  avg_session    first_open\n",
       "0   129682562        65  1.590957e+09    5236.317    80.558723  1.524686e+09\n",
       "1   201385452        41  1.590787e+09    2354.798    57.434098  1.588205e+09\n",
       "2  1558824692        79  1.590962e+09    9315.622   117.919266  1.580936e+09\n",
       "3   118978210        75  1.590777e+09    5122.445    68.299267  1.531505e+09\n",
       "4   701136272        30  1.590686e+09    8831.959   294.398633  1.579424e+09"
      ]
     },
     "execution_count": 4,
     "metadata": {},
     "output_type": "execute_result"
    }
   ],
   "source": [
    "user_analytics_raw.head()"
   ]
  },
  {
   "cell_type": "markdown",
   "metadata": {},
   "source": [
    "**I have queried:**\n",
    "* user_id: obfuscated user ID\n",
    "* sessions: total number of sessions\n",
    "* last_session: unix timestamp of last session (seconds)\n",
    "* total_time: total engagement time\n",
    "* avg_session: average session time\n",
    "* first_open: unix timestamp of when app was first opened"
   ]
  },
  {
   "cell_type": "markdown",
   "metadata": {},
   "source": [
    "**Session numbers were absent for some users so any user which such a session is removed**"
   ]
  },
  {
   "cell_type": "code",
   "execution_count": 5,
   "metadata": {},
   "outputs": [
    {
     "name": "stdout",
     "output_type": "stream",
     "text": [
      "(172493, 6)\n"
     ]
    }
   ],
   "source": [
    "user_analytics = user_analytics_raw.loc[~user_analytics_raw['user_id'].\n",
    "                                        isin(user_error['user_id'])].copy()\n",
    "print(user_analytics.shape)"
   ]
  },
  {
   "cell_type": "markdown",
   "metadata": {},
   "source": [
    "**Since I am interested in predicting which users are paying users based on activity from May 2020, I need to exclude those users that started using the app in the middle of May 2020**"
   ]
  },
  {
   "cell_type": "code",
   "execution_count": 6,
   "metadata": {},
   "outputs": [
    {
     "name": "stdout",
     "output_type": "stream",
     "text": [
      "Number of users between analysis duration: 135674\n"
     ]
    }
   ],
   "source": [
    "# Users who started using the app since app launch and 01 May 2020 are selected\n",
    "PERIOD_START = pd.Timestamp('2017-11-01').timestamp()\n",
    "PERIOD_END = pd.Timestamp('2020-05-01').timestamp()\n",
    "user_analytics = user_analytics.loc[\n",
    "    (user_analytics['first_open'] >= PERIOD_START)\n",
    "    & (user_analytics['first_open'] < PERIOD_END)].copy()\n",
    "print('Number of users between analysis duration:', len(user_analytics))"
   ]
  },
  {
   "cell_type": "markdown",
   "metadata": {},
   "source": [
    "**Converting unix timestamps to \"delta\" between June 01, 2020 (in terms of number of days ago)**"
   ]
  },
  {
   "cell_type": "code",
   "execution_count": 7,
   "metadata": {},
   "outputs": [],
   "source": [
    "LAST_MODIFIED = 1590969600\n",
    "user_analytics.loc[:, 'last_session'] = (\n",
    "    (LAST_MODIFIED - user_analytics['last_session']) / (60 * 60 * 24))\n",
    "user_analytics.loc[:, 'first_open'] = (\n",
    "    (LAST_MODIFIED - user_analytics['first_open']) / (60 * 60 * 24))\n",
    "user_analytics = user_analytics.astype('float64')"
   ]
  },
  {
   "cell_type": "markdown",
   "metadata": {},
   "source": [
    "**Calculating the number of days a user was active in May 2020 from timeseries data**"
   ]
  },
  {
   "cell_type": "code",
   "execution_count": 8,
   "metadata": {},
   "outputs": [],
   "source": [
    "timeseries = timeseries.pivot(index='user_id',\n",
    "                              columns='date',\n",
    "                              values='day_eng_time')\n",
    "active_days = pd.notna(timeseries).sum(axis=1)\n",
    "active_days.name = 'active_days'\n",
    "\n",
    "user_analytics = pd.merge(user_analytics,\n",
    "                          active_days,\n",
    "                          how='inner',\n",
    "                          on='user_id')"
   ]
  },
  {
   "cell_type": "code",
   "execution_count": 9,
   "metadata": {},
   "outputs": [
    {
     "data": {
      "text/html": [
       "<div>\n",
       "<style scoped>\n",
       "    .dataframe tbody tr th:only-of-type {\n",
       "        vertical-align: middle;\n",
       "    }\n",
       "\n",
       "    .dataframe tbody tr th {\n",
       "        vertical-align: top;\n",
       "    }\n",
       "\n",
       "    .dataframe thead th {\n",
       "        text-align: right;\n",
       "    }\n",
       "</style>\n",
       "<table border=\"1\" class=\"dataframe\">\n",
       "  <thead>\n",
       "    <tr style=\"text-align: right;\">\n",
       "      <th></th>\n",
       "      <th>user_id</th>\n",
       "      <th>sessions</th>\n",
       "      <th>last_session</th>\n",
       "      <th>total_time</th>\n",
       "      <th>avg_session</th>\n",
       "      <th>first_open</th>\n",
       "      <th>active_days</th>\n",
       "    </tr>\n",
       "  </thead>\n",
       "  <tbody>\n",
       "    <tr>\n",
       "      <th>0</th>\n",
       "      <td>1.296826e+08</td>\n",
       "      <td>65.0</td>\n",
       "      <td>0.149734</td>\n",
       "      <td>5236.317</td>\n",
       "      <td>80.558723</td>\n",
       "      <td>767.166667</td>\n",
       "      <td>29</td>\n",
       "    </tr>\n",
       "    <tr>\n",
       "      <th>1</th>\n",
       "      <td>2.013855e+08</td>\n",
       "      <td>41.0</td>\n",
       "      <td>2.115601</td>\n",
       "      <td>2354.798</td>\n",
       "      <td>57.434098</td>\n",
       "      <td>32.000000</td>\n",
       "      <td>21</td>\n",
       "    </tr>\n",
       "    <tr>\n",
       "      <th>2</th>\n",
       "      <td>1.558825e+09</td>\n",
       "      <td>79.0</td>\n",
       "      <td>0.087216</td>\n",
       "      <td>9315.622</td>\n",
       "      <td>117.919266</td>\n",
       "      <td>116.125000</td>\n",
       "      <td>28</td>\n",
       "    </tr>\n",
       "    <tr>\n",
       "      <th>3</th>\n",
       "      <td>1.189782e+08</td>\n",
       "      <td>75.0</td>\n",
       "      <td>2.224022</td>\n",
       "      <td>5122.445</td>\n",
       "      <td>68.299267</td>\n",
       "      <td>688.250000</td>\n",
       "      <td>24</td>\n",
       "    </tr>\n",
       "    <tr>\n",
       "      <th>4</th>\n",
       "      <td>7.011363e+08</td>\n",
       "      <td>30.0</td>\n",
       "      <td>3.279432</td>\n",
       "      <td>8831.959</td>\n",
       "      <td>294.398633</td>\n",
       "      <td>133.625000</td>\n",
       "      <td>24</td>\n",
       "    </tr>\n",
       "  </tbody>\n",
       "</table>\n",
       "</div>"
      ],
      "text/plain": [
       "        user_id  sessions  last_session  total_time  avg_session  first_open  \\\n",
       "0  1.296826e+08      65.0      0.149734    5236.317    80.558723  767.166667   \n",
       "1  2.013855e+08      41.0      2.115601    2354.798    57.434098   32.000000   \n",
       "2  1.558825e+09      79.0      0.087216    9315.622   117.919266  116.125000   \n",
       "3  1.189782e+08      75.0      2.224022    5122.445    68.299267  688.250000   \n",
       "4  7.011363e+08      30.0      3.279432    8831.959   294.398633  133.625000   \n",
       "\n",
       "   active_days  \n",
       "0           29  \n",
       "1           21  \n",
       "2           28  \n",
       "3           24  \n",
       "4           24  "
      ]
     },
     "execution_count": 9,
     "metadata": {},
     "output_type": "execute_result"
    }
   ],
   "source": [
    "user_analytics.head()"
   ]
  },
  {
   "cell_type": "markdown",
   "metadata": {},
   "source": [
    "**Now let's look at the investment data and our label (free vs paying user)**"
   ]
  },
  {
   "cell_type": "code",
   "execution_count": 10,
   "metadata": {},
   "outputs": [],
   "source": [
    "user_holdings = pd.read_csv(data_folder/'user_holdings.csv')\n",
    "user_purchases = pd.read_csv(data_folder/'user_purchases_may.csv', index_col=0)\n",
    "user_purchases_june = pd.read_csv(data_folder/'user_purchases_early_june.csv', index_col=0)\n",
    "user_transactions = pd.read_csv(data_folder/'user_transactions.tsv', sep='\\t')"
   ]
  },
  {
   "cell_type": "code",
   "execution_count": 11,
   "metadata": {},
   "outputs": [
    {
     "data": {
      "text/html": [
       "<div>\n",
       "<style scoped>\n",
       "    .dataframe tbody tr th:only-of-type {\n",
       "        vertical-align: middle;\n",
       "    }\n",
       "\n",
       "    .dataframe tbody tr th {\n",
       "        vertical-align: top;\n",
       "    }\n",
       "\n",
       "    .dataframe thead th {\n",
       "        text-align: right;\n",
       "    }\n",
       "</style>\n",
       "<table border=\"1\" class=\"dataframe\">\n",
       "  <thead>\n",
       "    <tr style=\"text-align: right;\">\n",
       "      <th></th>\n",
       "      <th>obfuscatedId</th>\n",
       "      <th>isPro</th>\n",
       "      <th>status</th>\n",
       "      <th>numberOfTransactions</th>\n",
       "      <th>numberOfCoins</th>\n",
       "      <th>numberOfCoinIds</th>\n",
       "    </tr>\n",
       "  </thead>\n",
       "  <tbody>\n",
       "    <tr>\n",
       "      <th>0</th>\n",
       "      <td>671119916</td>\n",
       "      <td>1</td>\n",
       "      <td>ACTIVE</td>\n",
       "      <td>138</td>\n",
       "      <td>25</td>\n",
       "      <td>3</td>\n",
       "    </tr>\n",
       "    <tr>\n",
       "      <th>1</th>\n",
       "      <td>936520911</td>\n",
       "      <td>0</td>\n",
       "      <td>ACTIVE</td>\n",
       "      <td>4</td>\n",
       "      <td>2</td>\n",
       "      <td>2</td>\n",
       "    </tr>\n",
       "    <tr>\n",
       "      <th>2</th>\n",
       "      <td>44359534</td>\n",
       "      <td>1</td>\n",
       "      <td>ACTIVE</td>\n",
       "      <td>3</td>\n",
       "      <td>2</td>\n",
       "      <td>0</td>\n",
       "    </tr>\n",
       "    <tr>\n",
       "      <th>3</th>\n",
       "      <td>399029160</td>\n",
       "      <td>1</td>\n",
       "      <td>ACTIVE</td>\n",
       "      <td>236</td>\n",
       "      <td>20</td>\n",
       "      <td>9</td>\n",
       "    </tr>\n",
       "    <tr>\n",
       "      <th>4</th>\n",
       "      <td>2000673413</td>\n",
       "      <td>0</td>\n",
       "      <td>ACTIVE</td>\n",
       "      <td>3</td>\n",
       "      <td>3</td>\n",
       "      <td>0</td>\n",
       "    </tr>\n",
       "  </tbody>\n",
       "</table>\n",
       "</div>"
      ],
      "text/plain": [
       "   obfuscatedId  isPro  status  numberOfTransactions  numberOfCoins  \\\n",
       "0     671119916      1  ACTIVE                   138             25   \n",
       "1     936520911      0  ACTIVE                     4              2   \n",
       "2      44359534      1  ACTIVE                     3              2   \n",
       "3     399029160      1  ACTIVE                   236             20   \n",
       "4    2000673413      0  ACTIVE                     3              3   \n",
       "\n",
       "   numberOfCoinIds  \n",
       "0                3  \n",
       "1                2  \n",
       "2                0  \n",
       "3                9  \n",
       "4                0  "
      ]
     },
     "execution_count": 11,
     "metadata": {},
     "output_type": "execute_result"
    }
   ],
   "source": [
    "user_transactions.head()"
   ]
  },
  {
   "cell_type": "code",
   "execution_count": 12,
   "metadata": {},
   "outputs": [],
   "source": [
    "#%% Merge number of transactions and number of coins with user analytics\n",
    "user_analytics = pd.merge(user_analytics,\n",
    "                          user_transactions[['obfuscatedId', 'numberOfTransactions', 'numberOfCoins']],\n",
    "                          how='inner',\n",
    "                          left_on='user_id',\n",
    "                          right_on='obfuscatedId')\n",
    "user_analytics = user_analytics.drop(['obfuscatedId'], axis=1)"
   ]
  },
  {
   "cell_type": "code",
   "execution_count": 13,
   "metadata": {},
   "outputs": [
    {
     "data": {
      "text/html": [
       "<div>\n",
       "<style scoped>\n",
       "    .dataframe tbody tr th:only-of-type {\n",
       "        vertical-align: middle;\n",
       "    }\n",
       "\n",
       "    .dataframe tbody tr th {\n",
       "        vertical-align: top;\n",
       "    }\n",
       "\n",
       "    .dataframe thead th {\n",
       "        text-align: right;\n",
       "    }\n",
       "</style>\n",
       "<table border=\"1\" class=\"dataframe\">\n",
       "  <thead>\n",
       "    <tr style=\"text-align: right;\">\n",
       "      <th></th>\n",
       "      <th>obfuscatedId</th>\n",
       "      <th>isPro</th>\n",
       "      <th>status</th>\n",
       "      <th>holdings</th>\n",
       "    </tr>\n",
       "  </thead>\n",
       "  <tbody>\n",
       "    <tr>\n",
       "      <th>0</th>\n",
       "      <td>671119916</td>\n",
       "      <td>1</td>\n",
       "      <td>ACTIVE</td>\n",
       "      <td>5.691166e+04</td>\n",
       "    </tr>\n",
       "    <tr>\n",
       "      <th>1</th>\n",
       "      <td>44359534</td>\n",
       "      <td>1</td>\n",
       "      <td>ACTIVE</td>\n",
       "      <td>2.117894e+05</td>\n",
       "    </tr>\n",
       "    <tr>\n",
       "      <th>2</th>\n",
       "      <td>399029160</td>\n",
       "      <td>1</td>\n",
       "      <td>ACTIVE</td>\n",
       "      <td>6.593942e+06</td>\n",
       "    </tr>\n",
       "    <tr>\n",
       "      <th>3</th>\n",
       "      <td>1123126564</td>\n",
       "      <td>0</td>\n",
       "      <td>ACTIVE</td>\n",
       "      <td>2.902064e+03</td>\n",
       "    </tr>\n",
       "    <tr>\n",
       "      <th>4</th>\n",
       "      <td>585372673</td>\n",
       "      <td>1</td>\n",
       "      <td>ACTIVE</td>\n",
       "      <td>4.058743e+04</td>\n",
       "    </tr>\n",
       "  </tbody>\n",
       "</table>\n",
       "</div>"
      ],
      "text/plain": [
       "   obfuscatedId  isPro  status      holdings\n",
       "0     671119916      1  ACTIVE  5.691166e+04\n",
       "1      44359534      1  ACTIVE  2.117894e+05\n",
       "2     399029160      1  ACTIVE  6.593942e+06\n",
       "3    1123126564      0  ACTIVE  2.902064e+03\n",
       "4     585372673      1  ACTIVE  4.058743e+04"
      ]
     },
     "execution_count": 13,
     "metadata": {},
     "output_type": "execute_result"
    }
   ],
   "source": [
    "user_holdings.head()"
   ]
  },
  {
   "cell_type": "code",
   "execution_count": 14,
   "metadata": {},
   "outputs": [
    {
     "data": {
      "text/html": [
       "<div>\n",
       "<style scoped>\n",
       "    .dataframe tbody tr th:only-of-type {\n",
       "        vertical-align: middle;\n",
       "    }\n",
       "\n",
       "    .dataframe tbody tr th {\n",
       "        vertical-align: top;\n",
       "    }\n",
       "\n",
       "    .dataframe thead th {\n",
       "        text-align: right;\n",
       "    }\n",
       "</style>\n",
       "<table border=\"1\" class=\"dataframe\">\n",
       "  <thead>\n",
       "    <tr style=\"text-align: right;\">\n",
       "      <th></th>\n",
       "      <th>obfuscatedId</th>\n",
       "      <th>isPro</th>\n",
       "      <th>holdings</th>\n",
       "    </tr>\n",
       "  </thead>\n",
       "  <tbody>\n",
       "    <tr>\n",
       "      <th>count</th>\n",
       "      <td>6.649160e+05</td>\n",
       "      <td>664916.000000</td>\n",
       "      <td>6.649160e+05</td>\n",
       "    </tr>\n",
       "    <tr>\n",
       "      <th>mean</th>\n",
       "      <td>1.073004e+09</td>\n",
       "      <td>0.010317</td>\n",
       "      <td>1.223419e+272</td>\n",
       "    </tr>\n",
       "    <tr>\n",
       "      <th>std</th>\n",
       "      <td>6.199896e+08</td>\n",
       "      <td>0.101048</td>\n",
       "      <td>inf</td>\n",
       "    </tr>\n",
       "    <tr>\n",
       "      <th>min</th>\n",
       "      <td>1.468000e+03</td>\n",
       "      <td>0.000000</td>\n",
       "      <td>-4.156190e+259</td>\n",
       "    </tr>\n",
       "    <tr>\n",
       "      <th>25%</th>\n",
       "      <td>5.362605e+08</td>\n",
       "      <td>0.000000</td>\n",
       "      <td>7.963817e+01</td>\n",
       "    </tr>\n",
       "    <tr>\n",
       "      <th>50%</th>\n",
       "      <td>1.072384e+09</td>\n",
       "      <td>0.000000</td>\n",
       "      <td>4.739244e+02</td>\n",
       "    </tr>\n",
       "    <tr>\n",
       "      <th>75%</th>\n",
       "      <td>1.610624e+09</td>\n",
       "      <td>0.000000</td>\n",
       "      <td>2.810146e+03</td>\n",
       "    </tr>\n",
       "    <tr>\n",
       "      <th>max</th>\n",
       "      <td>2.147482e+09</td>\n",
       "      <td>1.000000</td>\n",
       "      <td>8.134710e+277</td>\n",
       "    </tr>\n",
       "  </tbody>\n",
       "</table>\n",
       "</div>"
      ],
      "text/plain": [
       "       obfuscatedId          isPro       holdings\n",
       "count  6.649160e+05  664916.000000   6.649160e+05\n",
       "mean   1.073004e+09       0.010317  1.223419e+272\n",
       "std    6.199896e+08       0.101048            inf\n",
       "min    1.468000e+03       0.000000 -4.156190e+259\n",
       "25%    5.362605e+08       0.000000   7.963817e+01\n",
       "50%    1.072384e+09       0.000000   4.739244e+02\n",
       "75%    1.610624e+09       0.000000   2.810146e+03\n",
       "max    2.147482e+09       1.000000  8.134710e+277"
      ]
     },
     "execution_count": 14,
     "metadata": {},
     "output_type": "execute_result"
    }
   ],
   "source": [
    "user_holdings.describe()"
   ]
  },
  {
   "cell_type": "markdown",
   "metadata": {},
   "source": [
    "**There are some outliers when it comes to holdings (value of investment portfolio). There are some users with negative holdings and some with holdings greater than the market capitalization of all digital assets. So I will only keep users with more than 10 USD value and less than 10 million USD**"
   ]
  },
  {
   "cell_type": "code",
   "execution_count": 15,
   "metadata": {},
   "outputs": [],
   "source": [
    "user_holdings = user_holdings.loc[(user_holdings.holdings < 10000000)\n",
    "                                  & (user_holdings.holdings > 10)]"
   ]
  },
  {
   "cell_type": "code",
   "execution_count": 16,
   "metadata": {},
   "outputs": [],
   "source": [
    "# Merge with activity data\n",
    "user_analytics = pd.merge(user_analytics,\n",
    "                          user_holdings[['obfuscatedId', 'holdings', 'isPro']],\n",
    "                          how='inner',\n",
    "                          left_on='user_id',\n",
    "                          right_on='obfuscatedId')\n",
    "user_analytics = user_analytics.drop(['obfuscatedId'], axis=1)"
   ]
  },
  {
   "cell_type": "markdown",
   "metadata": {},
   "source": [
    "**The isPro column indicates which user is currently a \"PRO\" or premium user. It also includes users who are on free trial (7 days) so these are actually free users and I need to change the label to 0**"
   ]
  },
  {
   "cell_type": "code",
   "execution_count": 17,
   "metadata": {},
   "outputs": [],
   "source": [
    "# Purchase history from May 2020\n",
    "user_purchases = user_purchases.dropna()\n",
    "user_purchases = user_purchases.drop(['event_name'], axis=1)\n",
    "\n",
    "mapping = {\n",
    "    'io.getdelta.android.delta_pro_yearly_trial': 0,\n",
    "    'io.getdelta.ios.DELTA_PRO_EARLY_BACKER_MONTHLY': 1,\n",
    "    'io.getdelta.ios.DELTA_PRO_YEARLY_TRIAL': 0,\n",
    "    'io.getdelta.ios.DELTA_PRO_EARLY_BACKER_MONTHLY_EQUALIZED': 1,\n",
    "    'io.getdelta.ios.DELTA_PRO_EARLY_BACKER_YEARLY': 1,\n",
    "    'io.getdelta.android.delta_pro_early_backer_yearly_equalized': 1\n",
    "}\n",
    "\n",
    "user_purchases.loc[:, 'product_id'] = user_purchases['product_id'].map(mapping)\n",
    "user_purchases = user_purchases.sort_values(by=['user_id', 'product_id'])\n",
    "# Keep last product \"purchased\" because those that actually purchased premium after trial should be left as is\n",
    "user_purchases = user_purchases.drop_duplicates(subset=['user_id'],\n",
    "                                                keep='last')\n",
    "user_analytics = pd.merge(user_analytics,\n",
    "                          user_purchases,\n",
    "                          how='left',\n",
    "                          on='user_id')\n",
    "# Users that have pro status = 1 but are on trial (product_id ==0), set pro status as 0\n",
    "user_analytics.loc[((user_analytics.isPro == 1) &\n",
    "                    (user_analytics.product_id == 0)), 'isPro'] = 0\n",
    "user_analytics = user_analytics.drop(['product_id'], axis=1)"
   ]
  },
  {
   "cell_type": "markdown",
   "metadata": {},
   "source": [
    "**The isPro status is as of June 03, 2020. Due to the way the company stores data, historical status of isPro is not available. Therefore, I have used purchase history on June 01, 02 and 03 to set users that purchased premium during these days as non-premium for May 2020**"
   ]
  },
  {
   "cell_type": "code",
   "execution_count": 18,
   "metadata": {},
   "outputs": [],
   "source": [
    "user_purchases_june = user_purchases_june.drop(['event_name'], axis=1)\n",
    "user_purchases_june = user_purchases_june.dropna()\n",
    "user_purchases_june.loc[:, 'product_id'] = user_purchases_june['product_id'].map(mapping)\n",
    "user_purchases_june = user_purchases_june.sort_values(by=['user_id', 'product_id'])\n",
    "user_purchases_june = user_purchases_june.drop_duplicates(subset=['user_id'], keep='last')\n",
    "user_analytics = pd.merge(user_analytics, user_purchases_june, how='left', on='user_id')\n",
    "# Set pro status for those who purchased or tried after June 01 as 0\n",
    "user_analytics.loc[((user_analytics.isPro==1) & (~pd.isna(user_analytics.product_id))), 'isPro'] = 0\n",
    "user_analytics = user_analytics.drop(['product_id'], axis=1)"
   ]
  },
  {
   "cell_type": "code",
   "execution_count": 19,
   "metadata": {},
   "outputs": [
    {
     "data": {
      "text/html": [
       "<div>\n",
       "<style scoped>\n",
       "    .dataframe tbody tr th:only-of-type {\n",
       "        vertical-align: middle;\n",
       "    }\n",
       "\n",
       "    .dataframe tbody tr th {\n",
       "        vertical-align: top;\n",
       "    }\n",
       "\n",
       "    .dataframe thead th {\n",
       "        text-align: right;\n",
       "    }\n",
       "</style>\n",
       "<table border=\"1\" class=\"dataframe\">\n",
       "  <thead>\n",
       "    <tr style=\"text-align: right;\">\n",
       "      <th></th>\n",
       "      <th>user_id</th>\n",
       "      <th>sessions</th>\n",
       "      <th>last_session</th>\n",
       "      <th>total_time</th>\n",
       "      <th>avg_session</th>\n",
       "      <th>first_open</th>\n",
       "      <th>active_days</th>\n",
       "      <th>numberOfTransactions</th>\n",
       "      <th>numberOfCoins</th>\n",
       "      <th>holdings</th>\n",
       "      <th>isPro</th>\n",
       "    </tr>\n",
       "  </thead>\n",
       "  <tbody>\n",
       "    <tr>\n",
       "      <th>0</th>\n",
       "      <td>1.296826e+08</td>\n",
       "      <td>65.0</td>\n",
       "      <td>0.149734</td>\n",
       "      <td>5236.317</td>\n",
       "      <td>80.558723</td>\n",
       "      <td>767.166667</td>\n",
       "      <td>29</td>\n",
       "      <td>34</td>\n",
       "      <td>24</td>\n",
       "      <td>8778.301834</td>\n",
       "      <td>0</td>\n",
       "    </tr>\n",
       "    <tr>\n",
       "      <th>1</th>\n",
       "      <td>1.558825e+09</td>\n",
       "      <td>79.0</td>\n",
       "      <td>0.087216</td>\n",
       "      <td>9315.622</td>\n",
       "      <td>117.919266</td>\n",
       "      <td>116.125000</td>\n",
       "      <td>28</td>\n",
       "      <td>118</td>\n",
       "      <td>20</td>\n",
       "      <td>2739.913695</td>\n",
       "      <td>0</td>\n",
       "    </tr>\n",
       "    <tr>\n",
       "      <th>2</th>\n",
       "      <td>1.189782e+08</td>\n",
       "      <td>75.0</td>\n",
       "      <td>2.224022</td>\n",
       "      <td>5122.445</td>\n",
       "      <td>68.299267</td>\n",
       "      <td>688.250000</td>\n",
       "      <td>24</td>\n",
       "      <td>11</td>\n",
       "      <td>10</td>\n",
       "      <td>354.697827</td>\n",
       "      <td>0</td>\n",
       "    </tr>\n",
       "    <tr>\n",
       "      <th>3</th>\n",
       "      <td>1.691281e+09</td>\n",
       "      <td>26.0</td>\n",
       "      <td>0.184756</td>\n",
       "      <td>1791.426</td>\n",
       "      <td>68.901000</td>\n",
       "      <td>99.041667</td>\n",
       "      <td>19</td>\n",
       "      <td>119</td>\n",
       "      <td>18</td>\n",
       "      <td>4000.690597</td>\n",
       "      <td>0</td>\n",
       "    </tr>\n",
       "    <tr>\n",
       "      <th>4</th>\n",
       "      <td>4.059957e+08</td>\n",
       "      <td>195.0</td>\n",
       "      <td>0.095354</td>\n",
       "      <td>13298.463</td>\n",
       "      <td>68.197246</td>\n",
       "      <td>376.416667</td>\n",
       "      <td>31</td>\n",
       "      <td>1038</td>\n",
       "      <td>14</td>\n",
       "      <td>178797.427788</td>\n",
       "      <td>1</td>\n",
       "    </tr>\n",
       "  </tbody>\n",
       "</table>\n",
       "</div>"
      ],
      "text/plain": [
       "        user_id  sessions  last_session  total_time  avg_session  first_open  \\\n",
       "0  1.296826e+08      65.0      0.149734    5236.317    80.558723  767.166667   \n",
       "1  1.558825e+09      79.0      0.087216    9315.622   117.919266  116.125000   \n",
       "2  1.189782e+08      75.0      2.224022    5122.445    68.299267  688.250000   \n",
       "3  1.691281e+09      26.0      0.184756    1791.426    68.901000   99.041667   \n",
       "4  4.059957e+08     195.0      0.095354   13298.463    68.197246  376.416667   \n",
       "\n",
       "   active_days  numberOfTransactions  numberOfCoins       holdings  isPro  \n",
       "0           29                    34             24    8778.301834      0  \n",
       "1           28                   118             20    2739.913695      0  \n",
       "2           24                    11             10     354.697827      0  \n",
       "3           19                   119             18    4000.690597      0  \n",
       "4           31                  1038             14  178797.427788      1  "
      ]
     },
     "execution_count": 19,
     "metadata": {},
     "output_type": "execute_result"
    }
   ],
   "source": [
    "user_analytics.head()"
   ]
  },
  {
   "cell_type": "code",
   "execution_count": 20,
   "metadata": {},
   "outputs": [],
   "source": [
    "#%% Save processed data\n",
    "user_analytics.to_csv(data_folder/'user_analytics.csv')"
   ]
  }
 ],
 "metadata": {
  "kernelspec": {
   "display_name": "Python 3",
   "language": "python",
   "name": "python3"
  },
  "language_info": {
   "codemirror_mode": {
    "name": "ipython",
    "version": 3
   },
   "file_extension": ".py",
   "mimetype": "text/x-python",
   "name": "python",
   "nbconvert_exporter": "python",
   "pygments_lexer": "ipython3",
   "version": "3.8.3"
  }
 },
 "nbformat": 4,
 "nbformat_minor": 4
}
