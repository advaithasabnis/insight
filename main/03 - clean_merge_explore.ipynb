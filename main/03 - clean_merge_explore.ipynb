{
 "cells": [
  {
   "cell_type": "markdown",
   "metadata": {},
   "source": [
    "# Clean and merge data"
   ]
  },
  {
   "cell_type": "markdown",
   "metadata": {},
   "source": [
    "**This section cleans and merges activity data from BigQuery and investment portfolio data from MySQL into one data frame.**"
   ]
  },
  {
   "cell_type": "code",
   "execution_count": 1,
   "metadata": {},
   "outputs": [],
   "source": [
    "import pandas as pd\n",
    "import seaborn as sns\n",
    "import matplotlib.pyplot as plt\n",
    "from targetandmarket.config import data_folder"
   ]
  },
  {
   "cell_type": "code",
   "execution_count": 26,
   "metadata": {},
   "outputs": [],
   "source": [
    "# Import app activity data\n",
    "# Note that session numbers and engagement times have been scaled by a hidden factor to obfuscate true values\n",
    "user_analytics_raw = pd.read_csv(data_folder/'user_analytics_raw.csv', index_col=0)\n",
    "user_error = pd.read_csv(data_folder/'user_error_status.csv', index_col=0)\n",
    "timeseries = pd.read_csv(data_folder/'timeseries.csv', index_col=0)"
   ]
  },
  {
   "cell_type": "markdown",
   "metadata": {},
   "source": [
    "**Let's look at the activity data which I queried from BigQuery**"
   ]
  },
  {
   "cell_type": "code",
   "execution_count": 3,
   "metadata": {},
   "outputs": [
    {
     "name": "stdout",
     "output_type": "stream",
     "text": [
      "(173344, 6)\n"
     ]
    }
   ],
   "source": [
    "print(user_analytics_raw.shape)"
   ]
  },
  {
   "cell_type": "code",
   "execution_count": 4,
   "metadata": {},
   "outputs": [
    {
     "data": {
      "text/html": [
       "<div>\n",
       "<style scoped>\n",
       "    .dataframe tbody tr th:only-of-type {\n",
       "        vertical-align: middle;\n",
       "    }\n",
       "\n",
       "    .dataframe tbody tr th {\n",
       "        vertical-align: top;\n",
       "    }\n",
       "\n",
       "    .dataframe thead th {\n",
       "        text-align: right;\n",
       "    }\n",
       "</style>\n",
       "<table border=\"1\" class=\"dataframe\">\n",
       "  <thead>\n",
       "    <tr style=\"text-align: right;\">\n",
       "      <th></th>\n",
       "      <th>user_id</th>\n",
       "      <th>sessions</th>\n",
       "      <th>last_session</th>\n",
       "      <th>total_time</th>\n",
       "      <th>avg_session</th>\n",
       "      <th>first_open</th>\n",
       "    </tr>\n",
       "  </thead>\n",
       "  <tbody>\n",
       "    <tr>\n",
       "      <th>0</th>\n",
       "      <td>129682562</td>\n",
       "      <td>65</td>\n",
       "      <td>1.590957e+09</td>\n",
       "      <td>5236.317</td>\n",
       "      <td>80.558723</td>\n",
       "      <td>1.524686e+09</td>\n",
       "    </tr>\n",
       "    <tr>\n",
       "      <th>1</th>\n",
       "      <td>201385452</td>\n",
       "      <td>41</td>\n",
       "      <td>1.590787e+09</td>\n",
       "      <td>2354.798</td>\n",
       "      <td>57.434098</td>\n",
       "      <td>1.588205e+09</td>\n",
       "    </tr>\n",
       "    <tr>\n",
       "      <th>2</th>\n",
       "      <td>1558824692</td>\n",
       "      <td>79</td>\n",
       "      <td>1.590962e+09</td>\n",
       "      <td>9315.622</td>\n",
       "      <td>117.919266</td>\n",
       "      <td>1.580936e+09</td>\n",
       "    </tr>\n",
       "    <tr>\n",
       "      <th>3</th>\n",
       "      <td>118978210</td>\n",
       "      <td>75</td>\n",
       "      <td>1.590777e+09</td>\n",
       "      <td>5122.445</td>\n",
       "      <td>68.299267</td>\n",
       "      <td>1.531505e+09</td>\n",
       "    </tr>\n",
       "    <tr>\n",
       "      <th>4</th>\n",
       "      <td>701136272</td>\n",
       "      <td>30</td>\n",
       "      <td>1.590686e+09</td>\n",
       "      <td>8831.959</td>\n",
       "      <td>294.398633</td>\n",
       "      <td>1.579424e+09</td>\n",
       "    </tr>\n",
       "  </tbody>\n",
       "</table>\n",
       "</div>"
      ],
      "text/plain": [
       "      user_id  sessions  last_session  total_time  avg_session    first_open\n",
       "0   129682562        65  1.590957e+09    5236.317    80.558723  1.524686e+09\n",
       "1   201385452        41  1.590787e+09    2354.798    57.434098  1.588205e+09\n",
       "2  1558824692        79  1.590962e+09    9315.622   117.919266  1.580936e+09\n",
       "3   118978210        75  1.590777e+09    5122.445    68.299267  1.531505e+09\n",
       "4   701136272        30  1.590686e+09    8831.959   294.398633  1.579424e+09"
      ]
     },
     "execution_count": 4,
     "metadata": {},
     "output_type": "execute_result"
    }
   ],
   "source": [
    "user_analytics_raw.head()"
   ]
  },
  {
   "cell_type": "markdown",
   "metadata": {},
   "source": [
    "**I have queried:**\n",
    "* user_id: obfuscated user ID\n",
    "* sessions: total number of sessions\n",
    "* last_session: unix timestamp of last session (seconds)\n",
    "* total_time: total engagement time\n",
    "* avg_session: average session time\n",
    "* first_open: unix timestamp of when app was first opened"
   ]
  },
  {
   "cell_type": "markdown",
   "metadata": {},
   "source": [
    "**Session numbers were absent for some users so any user which such a session is removed**"
   ]
  },
  {
   "cell_type": "code",
   "execution_count": 5,
   "metadata": {},
   "outputs": [
    {
     "name": "stdout",
     "output_type": "stream",
     "text": [
      "(172493, 6)\n"
     ]
    }
   ],
   "source": [
    "user_analytics = user_analytics_raw.loc[~user_analytics_raw['user_id'].\n",
    "                                        isin(user_error['user_id'])].copy()\n",
    "print(user_analytics.shape)"
   ]
  },
  {
   "cell_type": "markdown",
   "metadata": {},
   "source": [
    "**Since I am interested in predicting which users are paying users based on activity from May 2020, I need to exclude those users that started using the app in the middle of May 2020**"
   ]
  },
  {
   "cell_type": "code",
   "execution_count": 6,
   "metadata": {},
   "outputs": [
    {
     "name": "stdout",
     "output_type": "stream",
     "text": [
      "Number of users between analysis duration: 135674\n"
     ]
    }
   ],
   "source": [
    "# Users who started using the app since app launch and 01 May 2020 are selected\n",
    "PERIOD_START = pd.Timestamp('2017-11-01').timestamp()\n",
    "PERIOD_END = pd.Timestamp('2020-05-01').timestamp()\n",
    "user_analytics = user_analytics.loc[\n",
    "    (user_analytics['first_open'] >= PERIOD_START)\n",
    "    & (user_analytics['first_open'] < PERIOD_END)].copy()\n",
    "print('Number of users between analysis duration:', len(user_analytics))"
   ]
  },
  {
   "cell_type": "markdown",
   "metadata": {},
   "source": [
    "**Converting unix timestamps to \"delta\" between June 01, 2020 (in terms of number of days ago)**"
   ]
  },
  {
   "cell_type": "code",
   "execution_count": 7,
   "metadata": {},
   "outputs": [],
   "source": [
    "LAST_MODIFIED = 1590969600\n",
    "user_analytics.loc[:, 'last_session'] = (\n",
    "    (LAST_MODIFIED - user_analytics['last_session']) / (60 * 60 * 24))\n",
    "user_analytics.loc[:, 'first_open'] = (\n",
    "    (LAST_MODIFIED - user_analytics['first_open']) / (60 * 60 * 24))\n",
    "user_analytics = user_analytics.astype('float64')"
   ]
  },
  {
   "cell_type": "markdown",
   "metadata": {},
   "source": [
    "**Calculating the number of days a user was active in May 2020 from timeseries data**"
   ]
  },
  {
   "cell_type": "code",
   "execution_count": 8,
   "metadata": {},
   "outputs": [],
   "source": [
    "timeseries = timeseries.pivot(index='user_id',\n",
    "                              columns='date',\n",
    "                              values='day_eng_time')\n",
    "active_days = pd.notna(timeseries).sum(axis=1)\n",
    "active_days.name = 'active_days'\n",
    "\n",
    "user_analytics = pd.merge(user_analytics,\n",
    "                          active_days,\n",
    "                          how='inner',\n",
    "                          on='user_id')"
   ]
  },
  {
   "cell_type": "code",
   "execution_count": 9,
   "metadata": {},
   "outputs": [
    {
     "data": {
      "text/html": [
       "<div>\n",
       "<style scoped>\n",
       "    .dataframe tbody tr th:only-of-type {\n",
       "        vertical-align: middle;\n",
       "    }\n",
       "\n",
       "    .dataframe tbody tr th {\n",
       "        vertical-align: top;\n",
       "    }\n",
       "\n",
       "    .dataframe thead th {\n",
       "        text-align: right;\n",
       "    }\n",
       "</style>\n",
       "<table border=\"1\" class=\"dataframe\">\n",
       "  <thead>\n",
       "    <tr style=\"text-align: right;\">\n",
       "      <th></th>\n",
       "      <th>user_id</th>\n",
       "      <th>sessions</th>\n",
       "      <th>last_session</th>\n",
       "      <th>total_time</th>\n",
       "      <th>avg_session</th>\n",
       "      <th>first_open</th>\n",
       "      <th>active_days</th>\n",
       "    </tr>\n",
       "  </thead>\n",
       "  <tbody>\n",
       "    <tr>\n",
       "      <th>0</th>\n",
       "      <td>1.296826e+08</td>\n",
       "      <td>65.0</td>\n",
       "      <td>0.149734</td>\n",
       "      <td>5236.317</td>\n",
       "      <td>80.558723</td>\n",
       "      <td>767.166667</td>\n",
       "      <td>29</td>\n",
       "    </tr>\n",
       "    <tr>\n",
       "      <th>1</th>\n",
       "      <td>2.013855e+08</td>\n",
       "      <td>41.0</td>\n",
       "      <td>2.115601</td>\n",
       "      <td>2354.798</td>\n",
       "      <td>57.434098</td>\n",
       "      <td>32.000000</td>\n",
       "      <td>21</td>\n",
       "    </tr>\n",
       "    <tr>\n",
       "      <th>2</th>\n",
       "      <td>1.558825e+09</td>\n",
       "      <td>79.0</td>\n",
       "      <td>0.087216</td>\n",
       "      <td>9315.622</td>\n",
       "      <td>117.919266</td>\n",
       "      <td>116.125000</td>\n",
       "      <td>28</td>\n",
       "    </tr>\n",
       "    <tr>\n",
       "      <th>3</th>\n",
       "      <td>1.189782e+08</td>\n",
       "      <td>75.0</td>\n",
       "      <td>2.224022</td>\n",
       "      <td>5122.445</td>\n",
       "      <td>68.299267</td>\n",
       "      <td>688.250000</td>\n",
       "      <td>24</td>\n",
       "    </tr>\n",
       "    <tr>\n",
       "      <th>4</th>\n",
       "      <td>7.011363e+08</td>\n",
       "      <td>30.0</td>\n",
       "      <td>3.279432</td>\n",
       "      <td>8831.959</td>\n",
       "      <td>294.398633</td>\n",
       "      <td>133.625000</td>\n",
       "      <td>24</td>\n",
       "    </tr>\n",
       "  </tbody>\n",
       "</table>\n",
       "</div>"
      ],
      "text/plain": [
       "        user_id  sessions  last_session  total_time  avg_session  first_open  \\\n",
       "0  1.296826e+08      65.0      0.149734    5236.317    80.558723  767.166667   \n",
       "1  2.013855e+08      41.0      2.115601    2354.798    57.434098   32.000000   \n",
       "2  1.558825e+09      79.0      0.087216    9315.622   117.919266  116.125000   \n",
       "3  1.189782e+08      75.0      2.224022    5122.445    68.299267  688.250000   \n",
       "4  7.011363e+08      30.0      3.279432    8831.959   294.398633  133.625000   \n",
       "\n",
       "   active_days  \n",
       "0           29  \n",
       "1           21  \n",
       "2           28  \n",
       "3           24  \n",
       "4           24  "
      ]
     },
     "execution_count": 9,
     "metadata": {},
     "output_type": "execute_result"
    }
   ],
   "source": [
    "user_analytics.head()"
   ]
  },
  {
   "cell_type": "markdown",
   "metadata": {},
   "source": [
    "**Now let's look at the investment data and our label (free vs paying user)**"
   ]
  },
  {
   "cell_type": "code",
   "execution_count": 10,
   "metadata": {},
   "outputs": [],
   "source": [
    "user_holdings = pd.read_csv(data_folder/'user_holdings.csv')\n",
    "user_purchases = pd.read_csv(data_folder/'user_purchases_may.csv', index_col=0)\n",
    "user_purchases_june = pd.read_csv(data_folder/'user_purchases_early_june.csv', index_col=0)\n",
    "user_transactions = pd.read_csv(data_folder/'user_transactions.tsv', sep='\\t')"
   ]
  },
  {
   "cell_type": "code",
   "execution_count": 11,
   "metadata": {},
   "outputs": [
    {
     "data": {
      "text/html": [
       "<div>\n",
       "<style scoped>\n",
       "    .dataframe tbody tr th:only-of-type {\n",
       "        vertical-align: middle;\n",
       "    }\n",
       "\n",
       "    .dataframe tbody tr th {\n",
       "        vertical-align: top;\n",
       "    }\n",
       "\n",
       "    .dataframe thead th {\n",
       "        text-align: right;\n",
       "    }\n",
       "</style>\n",
       "<table border=\"1\" class=\"dataframe\">\n",
       "  <thead>\n",
       "    <tr style=\"text-align: right;\">\n",
       "      <th></th>\n",
       "      <th>obfuscatedId</th>\n",
       "      <th>isPro</th>\n",
       "      <th>status</th>\n",
       "      <th>holdings</th>\n",
       "    </tr>\n",
       "  </thead>\n",
       "  <tbody>\n",
       "    <tr>\n",
       "      <th>0</th>\n",
       "      <td>671119916</td>\n",
       "      <td>1</td>\n",
       "      <td>ACTIVE</td>\n",
       "      <td>5.691166e+04</td>\n",
       "    </tr>\n",
       "    <tr>\n",
       "      <th>1</th>\n",
       "      <td>44359534</td>\n",
       "      <td>1</td>\n",
       "      <td>ACTIVE</td>\n",
       "      <td>2.117894e+05</td>\n",
       "    </tr>\n",
       "    <tr>\n",
       "      <th>2</th>\n",
       "      <td>399029160</td>\n",
       "      <td>1</td>\n",
       "      <td>ACTIVE</td>\n",
       "      <td>6.593942e+06</td>\n",
       "    </tr>\n",
       "    <tr>\n",
       "      <th>3</th>\n",
       "      <td>1123126564</td>\n",
       "      <td>0</td>\n",
       "      <td>ACTIVE</td>\n",
       "      <td>2.902064e+03</td>\n",
       "    </tr>\n",
       "    <tr>\n",
       "      <th>4</th>\n",
       "      <td>585372673</td>\n",
       "      <td>1</td>\n",
       "      <td>ACTIVE</td>\n",
       "      <td>4.058743e+04</td>\n",
       "    </tr>\n",
       "  </tbody>\n",
       "</table>\n",
       "</div>"
      ],
      "text/plain": [
       "   obfuscatedId  isPro  status      holdings\n",
       "0     671119916      1  ACTIVE  5.691166e+04\n",
       "1      44359534      1  ACTIVE  2.117894e+05\n",
       "2     399029160      1  ACTIVE  6.593942e+06\n",
       "3    1123126564      0  ACTIVE  2.902064e+03\n",
       "4     585372673      1  ACTIVE  4.058743e+04"
      ]
     },
     "execution_count": 11,
     "metadata": {},
     "output_type": "execute_result"
    }
   ],
   "source": [
    "user_holdings.head()"
   ]
  },
  {
   "cell_type": "code",
   "execution_count": 12,
   "metadata": {},
   "outputs": [
    {
     "data": {
      "text/html": [
       "<div>\n",
       "<style scoped>\n",
       "    .dataframe tbody tr th:only-of-type {\n",
       "        vertical-align: middle;\n",
       "    }\n",
       "\n",
       "    .dataframe tbody tr th {\n",
       "        vertical-align: top;\n",
       "    }\n",
       "\n",
       "    .dataframe thead th {\n",
       "        text-align: right;\n",
       "    }\n",
       "</style>\n",
       "<table border=\"1\" class=\"dataframe\">\n",
       "  <thead>\n",
       "    <tr style=\"text-align: right;\">\n",
       "      <th></th>\n",
       "      <th>obfuscatedId</th>\n",
       "      <th>isPro</th>\n",
       "      <th>holdings</th>\n",
       "    </tr>\n",
       "  </thead>\n",
       "  <tbody>\n",
       "    <tr>\n",
       "      <th>count</th>\n",
       "      <td>6.649160e+05</td>\n",
       "      <td>664916.000000</td>\n",
       "      <td>6.649160e+05</td>\n",
       "    </tr>\n",
       "    <tr>\n",
       "      <th>mean</th>\n",
       "      <td>1.073004e+09</td>\n",
       "      <td>0.010317</td>\n",
       "      <td>1.223419e+272</td>\n",
       "    </tr>\n",
       "    <tr>\n",
       "      <th>std</th>\n",
       "      <td>6.199896e+08</td>\n",
       "      <td>0.101048</td>\n",
       "      <td>inf</td>\n",
       "    </tr>\n",
       "    <tr>\n",
       "      <th>min</th>\n",
       "      <td>1.468000e+03</td>\n",
       "      <td>0.000000</td>\n",
       "      <td>-4.156190e+259</td>\n",
       "    </tr>\n",
       "    <tr>\n",
       "      <th>25%</th>\n",
       "      <td>5.362605e+08</td>\n",
       "      <td>0.000000</td>\n",
       "      <td>7.963817e+01</td>\n",
       "    </tr>\n",
       "    <tr>\n",
       "      <th>50%</th>\n",
       "      <td>1.072384e+09</td>\n",
       "      <td>0.000000</td>\n",
       "      <td>4.739244e+02</td>\n",
       "    </tr>\n",
       "    <tr>\n",
       "      <th>75%</th>\n",
       "      <td>1.610624e+09</td>\n",
       "      <td>0.000000</td>\n",
       "      <td>2.810146e+03</td>\n",
       "    </tr>\n",
       "    <tr>\n",
       "      <th>max</th>\n",
       "      <td>2.147482e+09</td>\n",
       "      <td>1.000000</td>\n",
       "      <td>8.134710e+277</td>\n",
       "    </tr>\n",
       "  </tbody>\n",
       "</table>\n",
       "</div>"
      ],
      "text/plain": [
       "       obfuscatedId          isPro       holdings\n",
       "count  6.649160e+05  664916.000000   6.649160e+05\n",
       "mean   1.073004e+09       0.010317  1.223419e+272\n",
       "std    6.199896e+08       0.101048            inf\n",
       "min    1.468000e+03       0.000000 -4.156190e+259\n",
       "25%    5.362605e+08       0.000000   7.963817e+01\n",
       "50%    1.072384e+09       0.000000   4.739244e+02\n",
       "75%    1.610624e+09       0.000000   2.810146e+03\n",
       "max    2.147482e+09       1.000000  8.134710e+277"
      ]
     },
     "execution_count": 12,
     "metadata": {},
     "output_type": "execute_result"
    }
   ],
   "source": [
    "user_holdings.describe()"
   ]
  },
  {
   "cell_type": "markdown",
   "metadata": {},
   "source": [
    "**There are some outliers when it comes to holdings (value of investment portfolio). There are some users with negative holdings and some with holdings greater than the market capitalization of all digital assets. So I will only keep users with more than 10 USD value and less than 10 million USD**"
   ]
  },
  {
   "cell_type": "code",
   "execution_count": 13,
   "metadata": {},
   "outputs": [],
   "source": [
    "user_holdings = user_holdings.loc[(user_holdings.holdings < 10000000)\n",
    "                                  & (user_holdings.holdings > 10)]"
   ]
  },
  {
   "cell_type": "code",
   "execution_count": 14,
   "metadata": {},
   "outputs": [],
   "source": [
    "# Merge with activity data\n",
    "user_analytics = pd.merge(user_analytics,\n",
    "                          user_holdings[['obfuscatedId', 'holdings', 'isPro']],\n",
    "                          how='inner',\n",
    "                          left_on='user_id',\n",
    "                          right_on='obfuscatedId')\n",
    "user_analytics = user_analytics.drop(['obfuscatedId'], axis=1)"
   ]
  },
  {
   "cell_type": "markdown",
   "metadata": {},
   "source": [
    "**The isPro column indicates which user is currently a \"PRO\" or premium user. It also includes users who are on free trial (7 days) so these are actually free users and I need to change the label to 0**"
   ]
  },
  {
   "cell_type": "code",
   "execution_count": 15,
   "metadata": {},
   "outputs": [],
   "source": [
    "# Purchase history from May 2020\n",
    "user_purchases = user_purchases.dropna()\n",
    "user_purchases = user_purchases.drop(['event_name'], axis=1)\n",
    "\n",
    "mapping = {\n",
    "    'io.getdelta.android.delta_pro_yearly_trial': 0,\n",
    "    'io.getdelta.ios.DELTA_PRO_EARLY_BACKER_MONTHLY': 1,\n",
    "    'io.getdelta.ios.DELTA_PRO_YEARLY_TRIAL': 0,\n",
    "    'io.getdelta.ios.DELTA_PRO_EARLY_BACKER_MONTHLY_EQUALIZED': 1,\n",
    "    'io.getdelta.ios.DELTA_PRO_EARLY_BACKER_YEARLY': 1,\n",
    "    'io.getdelta.android.delta_pro_early_backer_yearly_equalized': 1\n",
    "}\n",
    "\n",
    "user_purchases.loc[:, 'product_id'] = user_purchases['product_id'].map(mapping)\n",
    "user_purchases = user_purchases.sort_values(by=['user_id', 'product_id'])\n",
    "# Keep last product \"purchased\" because those that actually purchased premium after trial should be left as is\n",
    "user_purchases = user_purchases.drop_duplicates(subset=['user_id'],\n",
    "                                                keep='last')\n",
    "user_analytics = pd.merge(user_analytics,\n",
    "                          user_purchases,\n",
    "                          how='left',\n",
    "                          on='user_id')\n",
    "# Users that have pro status = 1 but are on trial (product_id ==0), set pro status as 0\n",
    "user_analytics.loc[((user_analytics.isPro == 1) &\n",
    "                    (user_analytics.product_id == 0)), 'isPro'] = 0\n",
    "user_analytics = user_analytics.drop(['product_id'], axis=1)"
   ]
  },
  {
   "cell_type": "markdown",
   "metadata": {},
   "source": [
    "**The isPro status is as of June 03, 2020. Due to the way the company stores data, historical status of isPro is not available. Therefore, I have used purchase history on June 01, 02 and 03 to set users that purchased premium during these days as non-premium for May 2020**"
   ]
  },
  {
   "cell_type": "code",
   "execution_count": 16,
   "metadata": {},
   "outputs": [],
   "source": [
    "user_purchases_june = user_purchases_june.drop(['event_name'], axis=1)\n",
    "user_purchases_june = user_purchases_june.dropna()\n",
    "user_purchases_june.loc[:, 'product_id'] = user_purchases_june['product_id'].map(mapping)\n",
    "user_purchases_june = user_purchases_june.sort_values(by=['user_id', 'product_id'])\n",
    "user_purchases_june = user_purchases_june.drop_duplicates(subset=['user_id'], keep='last')\n",
    "user_analytics = pd.merge(user_analytics, user_purchases_june, how='left', on='user_id')\n",
    "# Set pro status for those who purchased or tried after June 01 as 0\n",
    "user_analytics.loc[((user_analytics.isPro==1) & (~pd.isna(user_analytics.product_id))), 'isPro'] = 0\n",
    "user_analytics = user_analytics.drop(['product_id'], axis=1)"
   ]
  },
  {
   "cell_type": "code",
   "execution_count": 17,
   "metadata": {},
   "outputs": [],
   "source": [
    "#%% Save processed data\n",
    "user_analytics.to_csv(data_folder/'user_analytics.csv')"
   ]
  },
  {
   "cell_type": "markdown",
   "metadata": {},
   "source": [
    "# Exploration"
   ]
  },
  {
   "cell_type": "code",
   "execution_count": 18,
   "metadata": {
    "scrolled": true
   },
   "outputs": [
    {
     "name": "stdout",
     "output_type": "stream",
     "text": [
      "<class 'pandas.core.frame.DataFrame'>\n",
      "Int64Index: 107046 entries, 0 to 107045\n",
      "Data columns (total 9 columns):\n",
      " #   Column        Non-Null Count   Dtype  \n",
      "---  ------        --------------   -----  \n",
      " 0   user_id       107046 non-null  float64\n",
      " 1   sessions      107046 non-null  float64\n",
      " 2   last_session  107046 non-null  float64\n",
      " 3   total_time    107046 non-null  float64\n",
      " 4   avg_session   107046 non-null  float64\n",
      " 5   first_open    107046 non-null  float64\n",
      " 6   active_days   107046 non-null  int64  \n",
      " 7   holdings      107046 non-null  float64\n",
      " 8   isPro         107046 non-null  int64  \n",
      "dtypes: float64(7), int64(2)\n",
      "memory usage: 8.2 MB\n"
     ]
    }
   ],
   "source": [
    "user_data = pd.read_csv(data_folder/'user_analytics.csv', index_col=0)\n",
    "user_data.info()"
   ]
  },
  {
   "cell_type": "markdown",
   "metadata": {},
   "source": [
    "## Exploration"
   ]
  },
  {
   "cell_type": "markdown",
   "metadata": {},
   "source": [
    "**Let's look at the label (free or paying user)**"
   ]
  },
  {
   "cell_type": "code",
   "execution_count": 19,
   "metadata": {
    "scrolled": true
   },
   "outputs": [
    {
     "name": "stdout",
     "output_type": "stream",
     "text": [
      "0    103081\n",
      "1      3965\n",
      "Name: isPro, dtype: int64\n"
     ]
    },
    {
     "data": {
      "image/png": "[encoded data removed]",
      "text/plain": [
       "<Figure size 432x288 with 1 Axes>"
      ]
     },
     "metadata": {
      "needs_background": "light"
     },
     "output_type": "display_data"
    }
   ],
   "source": [
    "print(user_data.isPro.value_counts())\n",
    "sns.countplot(user_data.isPro);"
   ]
  },
  {
   "cell_type": "markdown",
   "metadata": {},
   "source": [
    "**Classes are heavily imbalanced as expected. Only around 3 to 4% users are paying users.**"
   ]
  },
  {
   "cell_type": "markdown",
   "metadata": {},
   "source": [
    "**Now let's look at the features**"
   ]
  },
  {
   "cell_type": "code",
   "execution_count": 20,
   "metadata": {},
   "outputs": [
    {
     "name": "stdout",
     "output_type": "stream",
     "text": [
      "<class 'pandas.core.frame.DataFrame'>\n",
      "Int64Index: 107046 entries, 0 to 107045\n",
      "Data columns (total 9 columns):\n",
      " #   Column        Non-Null Count   Dtype  \n",
      "---  ------        --------------   -----  \n",
      " 0   user_id       107046 non-null  float64\n",
      " 1   sessions      107046 non-null  float64\n",
      " 2   last_session  107046 non-null  float64\n",
      " 3   total_time    107046 non-null  float64\n",
      " 4   avg_session   107046 non-null  float64\n",
      " 5   first_open    107046 non-null  float64\n",
      " 6   active_days   107046 non-null  int64  \n",
      " 7   holdings      107046 non-null  float64\n",
      " 8   isPro         107046 non-null  int64  \n",
      "dtypes: float64(7), int64(2)\n",
      "memory usage: 13.2 MB\n"
     ]
    }
   ],
   "source": [
    "user_data.info()"
   ]
  },
  {
   "cell_type": "code",
   "execution_count": 21,
   "metadata": {
    "scrolled": true
   },
   "outputs": [
    {
     "data": {
      "text/html": [
       "<div>\n",
       "<style scoped>\n",
       "    .dataframe tbody tr th:only-of-type {\n",
       "        vertical-align: middle;\n",
       "    }\n",
       "\n",
       "    .dataframe tbody tr th {\n",
       "        vertical-align: top;\n",
       "    }\n",
       "\n",
       "    .dataframe thead th {\n",
       "        text-align: right;\n",
       "    }\n",
       "</style>\n",
       "<table border=\"1\" class=\"dataframe\">\n",
       "  <thead>\n",
       "    <tr style=\"text-align: right;\">\n",
       "      <th></th>\n",
       "      <th>user_id</th>\n",
       "      <th>sessions</th>\n",
       "      <th>last_session</th>\n",
       "      <th>total_time</th>\n",
       "      <th>avg_session</th>\n",
       "      <th>first_open</th>\n",
       "      <th>active_days</th>\n",
       "      <th>holdings</th>\n",
       "      <th>isPro</th>\n",
       "    </tr>\n",
       "  </thead>\n",
       "  <tbody>\n",
       "    <tr>\n",
       "      <th>count</th>\n",
       "      <td>1.070460e+05</td>\n",
       "      <td>107046.000000</td>\n",
       "      <td>107046.000000</td>\n",
       "      <td>107046.000000</td>\n",
       "      <td>107046.000000</td>\n",
       "      <td>107046.000000</td>\n",
       "      <td>107046.000000</td>\n",
       "      <td>1.070460e+05</td>\n",
       "      <td>107046.000000</td>\n",
       "    </tr>\n",
       "    <tr>\n",
       "      <th>mean</th>\n",
       "      <td>1.073894e+09</td>\n",
       "      <td>29.509183</td>\n",
       "      <td>7.564471</td>\n",
       "      <td>2302.773493</td>\n",
       "      <td>63.594288</td>\n",
       "      <td>468.283378</td>\n",
       "      <td>10.197906</td>\n",
       "      <td>2.882194e+04</td>\n",
       "      <td>0.037040</td>\n",
       "    </tr>\n",
       "    <tr>\n",
       "      <th>std</th>\n",
       "      <td>6.191898e+08</td>\n",
       "      <td>54.660764</td>\n",
       "      <td>8.675834</td>\n",
       "      <td>6852.495731</td>\n",
       "      <td>73.498201</td>\n",
       "      <td>281.338814</td>\n",
       "      <td>10.276969</td>\n",
       "      <td>2.626769e+05</td>\n",
       "      <td>0.188861</td>\n",
       "    </tr>\n",
       "    <tr>\n",
       "      <th>min</th>\n",
       "      <td>1.562000e+04</td>\n",
       "      <td>1.000000</td>\n",
       "      <td>0.083335</td>\n",
       "      <td>10.001000</td>\n",
       "      <td>10.001000</td>\n",
       "      <td>31.041667</td>\n",
       "      <td>1.000000</td>\n",
       "      <td>1.001104e+01</td>\n",
       "      <td>0.000000</td>\n",
       "    </tr>\n",
       "    <tr>\n",
       "      <th>25%</th>\n",
       "      <td>5.374070e+08</td>\n",
       "      <td>2.000000</td>\n",
       "      <td>0.531247</td>\n",
       "      <td>76.504000</td>\n",
       "      <td>26.233264</td>\n",
       "      <td>215.083333</td>\n",
       "      <td>2.000000</td>\n",
       "      <td>4.471690e+02</td>\n",
       "      <td>0.000000</td>\n",
       "    </tr>\n",
       "    <tr>\n",
       "      <th>50%</th>\n",
       "      <td>1.073426e+09</td>\n",
       "      <td>6.000000</td>\n",
       "      <td>3.405738</td>\n",
       "      <td>292.578500</td>\n",
       "      <td>42.066667</td>\n",
       "      <td>436.416667</td>\n",
       "      <td>5.000000</td>\n",
       "      <td>2.021743e+03</td>\n",
       "      <td>0.000000</td>\n",
       "    </tr>\n",
       "    <tr>\n",
       "      <th>75%</th>\n",
       "      <td>1.610504e+09</td>\n",
       "      <td>28.000000</td>\n",
       "      <td>13.114973</td>\n",
       "      <td>1394.697500</td>\n",
       "      <td>72.993698</td>\n",
       "      <td>741.750000</td>\n",
       "      <td>17.000000</td>\n",
       "      <td>9.183731e+03</td>\n",
       "      <td>0.000000</td>\n",
       "    </tr>\n",
       "    <tr>\n",
       "      <th>max</th>\n",
       "      <td>2.147438e+09</td>\n",
       "      <td>537.000000</td>\n",
       "      <td>31.083196</td>\n",
       "      <td>167764.425000</td>\n",
       "      <td>1744.580000</td>\n",
       "      <td>942.958333</td>\n",
       "      <td>31.000000</td>\n",
       "      <td>9.950672e+06</td>\n",
       "      <td>1.000000</td>\n",
       "    </tr>\n",
       "  </tbody>\n",
       "</table>\n",
       "</div>"
      ],
      "text/plain": [
       "            user_id       sessions   last_session     total_time  \\\n",
       "count  1.070460e+05  107046.000000  107046.000000  107046.000000   \n",
       "mean   1.073894e+09      29.509183       7.564471    2302.773493   \n",
       "std    6.191898e+08      54.660764       8.675834    6852.495731   \n",
       "min    1.562000e+04       1.000000       0.083335      10.001000   \n",
       "25%    5.374070e+08       2.000000       0.531247      76.504000   \n",
       "50%    1.073426e+09       6.000000       3.405738     292.578500   \n",
       "75%    1.610504e+09      28.000000      13.114973    1394.697500   \n",
       "max    2.147438e+09     537.000000      31.083196  167764.425000   \n",
       "\n",
       "         avg_session     first_open    active_days      holdings  \\\n",
       "count  107046.000000  107046.000000  107046.000000  1.070460e+05   \n",
       "mean       63.594288     468.283378      10.197906  2.882194e+04   \n",
       "std        73.498201     281.338814      10.276969  2.626769e+05   \n",
       "min        10.001000      31.041667       1.000000  1.001104e+01   \n",
       "25%        26.233264     215.083333       2.000000  4.471690e+02   \n",
       "50%        42.066667     436.416667       5.000000  2.021743e+03   \n",
       "75%        72.993698     741.750000      17.000000  9.183731e+03   \n",
       "max      1744.580000     942.958333      31.000000  9.950672e+06   \n",
       "\n",
       "               isPro  \n",
       "count  107046.000000  \n",
       "mean        0.037040  \n",
       "std         0.188861  \n",
       "min         0.000000  \n",
       "25%         0.000000  \n",
       "50%         0.000000  \n",
       "75%         0.000000  \n",
       "max         1.000000  "
      ]
     },
     "execution_count": 21,
     "metadata": {},
     "output_type": "execute_result"
    }
   ],
   "source": [
    "user_data.describe()"
   ]
  },
  {
   "cell_type": "code",
   "execution_count": 22,
   "metadata": {},
   "outputs": [],
   "source": [
    "def plot_corr_map(data):\n",
    "    f, ax = plt.subplots(figsize=(10, 6))\n",
    "    corr = data.corr()\n",
    "    hm = sns.heatmap(round(corr, 2),\n",
    "                     annot=True,\n",
    "                     ax=ax,\n",
    "                     cmap=\"coolwarm\",\n",
    "                     fmt='.2f',\n",
    "                     linewidths=.05,\n",
    "                    center=0)\n",
    "    f.subplots_adjust(top=0.93)\n",
    "    t = f.suptitle('User Data Correlation Heatmap', fontsize=16)\n",
    "    return f"
   ]
  },
  {
   "cell_type": "code",
   "execution_count": 23,
   "metadata": {
    "scrolled": false
   },
   "outputs": [
    {
     "data": {
      "image/png": "[encoded data removed]",
      "text/plain": [
       "<Figure size 720x432 with 2 Axes>"
      ]
     },
     "metadata": {
      "needs_background": "light"
     },
     "output_type": "display_data"
    }
   ],
   "source": [
    "fig1 = plot_corr_map(user_data.drop(['user_id'], axis=1))"
   ]
  },
  {
   "cell_type": "markdown",
   "metadata": {},
   "source": [
    "**Some features are significantly correlated such as sessions and total_time or sessions and active_days"
   ]
  }
 ],
 "metadata": {
  "kernelspec": {
   "display_name": "Python 3",
   "language": "python",
   "name": "python3"
  },
  "language_info": {
   "codemirror_mode": {
    "name": "ipython",
    "version": 3
   },
   "file_extension": ".py",
   "mimetype": "text/x-python",
   "name": "python",
   "nbconvert_exporter": "python",
   "pygments_lexer": "ipython3",
   "version": "3.8.3"
  }
 },
 "nbformat": 4,
 "nbformat_minor": 4
}
